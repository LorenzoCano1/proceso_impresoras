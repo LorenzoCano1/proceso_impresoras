{
 "cells": [
  {
   "cell_type": "markdown",
   "id": "8d424210",
   "metadata": {},
   "source": [
    "# Librerias"
   ]
  },
  {
   "cell_type": "code",
   "execution_count": 27,
   "id": "74ebdcd1",
   "metadata": {
    "scrolled": true
   },
   "outputs": [],
   "source": [
    "import requests\n",
    "from io import BytesIO\n",
    "import MySQLdb\n",
    "import datetime\n",
    "import zipfile\n",
    "import xml.etree.ElementTree as ET\n",
    "import pandas as pd\n",
    "import pandasql as psql\n",
    "from sqlalchemy import create_engine"
   ]
  },
  {
   "cell_type": "markdown",
   "id": "bfa84a33",
   "metadata": {},
   "source": [
    "# Variables"
   ]
  },
  {
   "cell_type": "code",
   "execution_count": 28,
   "id": "62d92281",
   "metadata": {},
   "outputs": [],
   "source": [
    "# Nombre del archivo de configuración\n",
    "config_file = \"config.txt\"\n",
    "# Directorio donde deseas guardar el archivo XLSX\n",
    "ruta_directorio = 'C:\\\\Users\\\\lcano\\\\Desktop\\\\Excel_impresoras' "
   ]
  },
  {
   "cell_type": "markdown",
   "id": "cd1cc008",
   "metadata": {},
   "source": [
    "# Fechas"
   ]
  },
  {
   "cell_type": "code",
   "execution_count": 29,
   "id": "e7dc67ac",
   "metadata": {},
   "outputs": [],
   "source": [
    " # Obtener la fecha y hora actual\n",
    "fecha_main = datetime.datetime.now()\n",
    "# Restar un día\n",
    "un_dia = datetime.timedelta(days=1)\n",
    "fecha_diccionario = fecha_main - un_dia\n",
    "fecha_diccionario = fecha_diccionario.date()"
   ]
  },
  {
   "cell_type": "markdown",
   "id": "bb896cb8",
   "metadata": {},
   "source": [
    "# Clases"
   ]
  },
  {
   "cell_type": "code",
   "execution_count": 30,
   "id": "978fa05b",
   "metadata": {},
   "outputs": [],
   "source": [
    "class MySQLDatabase:\n",
    "    def __init__(self, host, user, password, database, charset='latin1'):\n",
    "        self.host = host\n",
    "        self.user = user\n",
    "        self.password = password\n",
    "        self.database = database\n",
    "        self.charset = charset\n",
    "        self.connection = None\n",
    "\n",
    "    def connect(self):\n",
    "        try:\n",
    "            self.connection = MySQLdb.connect(\n",
    "                host=self.host,\n",
    "                user=self.user,\n",
    "                password=self.password,\n",
    "                database=self.database,\n",
    "                charset=self.charset\n",
    "            )\n",
    "            print(\"Conexión exitosa a la base de datos.\")\n",
    "        except MySQLdb.Error as e:\n",
    "            print(\"Error al conectar a la base de datos:\", e)\n",
    "\n",
    "    def execute_query(self, query, values=None):\n",
    "        if self.connection:\n",
    "            try:\n",
    "                cursor = self.connection.cursor()\n",
    "                if values:\n",
    "                    cursor.execute(query, values)\n",
    "                else:\n",
    "                    cursor.execute(query)\n",
    "                result = cursor.fetchall()\n",
    "                cursor.close()\n",
    "                return result\n",
    "            except MySQLdb.Error as e:\n",
    "                print(\"Error al ejecutar la consulta:\", e)\n",
    "        else:\n",
    "            print(\"No hay una conexión a la base de datos.\")\n",
    "\n",
    "    def commit(self):\n",
    "        if self.connection:\n",
    "            try:\n",
    "                self.connection.commit()\n",
    "                print(\"Cambios guardados en la base de datos.\")\n",
    "            except MySQLdb.Error as e:\n",
    "                self.connection.rollback()\n",
    "                print(\"Error al guardar cambios en la base de datos:\", e)\n",
    "\n",
    "    def close(self):\n",
    "        if self.connection:\n",
    "            self.connection.close()\n",
    "            print(\"Conexión cerrada.\")\n",
    "        else:\n",
    "            print(\"No hay una conexión activa para cerrar.\")"
   ]
  },
  {
   "cell_type": "markdown",
   "id": "14468c95",
   "metadata": {},
   "source": [
    "# Funciones"
   ]
  },
  {
   "cell_type": "code",
   "execution_count": 31,
   "id": "c14d613a",
   "metadata": {},
   "outputs": [],
   "source": [
    "def descargar_descomprimir_xml_zip(ip, zeta):\n",
    "    try:\n",
    "        # URL del archivo .zip que deseas descargar\n",
    "        zip_url = f'http://user:9999@{ip}/jornada.zip?DESDE={zeta}&HASTA={zeta}'\n",
    "\n",
    "        # Realizar la solicitud para descargar el archivo .zip\n",
    "        response = requests.get(zip_url)\n",
    "\n",
    "        # Verificar si la solicitud fue exitosa\n",
    "        if response.status_code == 200:\n",
    "            # Crear un objeto BytesIO para almacenar el contenido del archivo .zip\n",
    "            zip_content = BytesIO(response.content)\n",
    "            \n",
    "            # Descomprimir el contenido del archivo .zip\n",
    "            with zipfile.ZipFile(zip_content) as zip_ref:\n",
    "                # Almacenar los contenidos del archivo ZIP en una variable\n",
    "                zip_contents = {}\n",
    "                for file_name in zip_ref.namelist():\n",
    "                    with zip_ref.open(file_name) as file:\n",
    "                        zip_contents[file_name] = file.read()\n",
    "\n",
    "                # Acceder al contenido de un archivo específico en la variable\n",
    "                first_file_name = list(zip_contents.keys())[0]\n",
    "                first_file_content = zip_contents.get(first_file_name)\n",
    "                \n",
    "                if first_file_content:\n",
    "                    decoded_content = first_file_content.decode('utf-8')  # Ajusta la codificación si es diferente\n",
    "                    return decoded_content\n",
    "                else:\n",
    "                    print(f\"El archivo '{first_file_name}' no se encuentra en el ZIP.\")\n",
    "        else:\n",
    "            print(f\"La solicitud falló con el código de estado: {response.status_code}\")\n",
    "\n",
    "    except Exception as e:\n",
    "        print(f\"Otro Error: {str(e)}\")"
   ]
  },
  {
   "cell_type": "code",
   "execution_count": 32,
   "id": "04e7354d",
   "metadata": {},
   "outputs": [],
   "source": [
    "def obtener_datos_desde_xml(decoded_content):\n",
    "    try:\n",
    "        # Cargar el archivo XML\n",
    "        tree = ET.ElementTree(ET.fromstring(decoded_content))\n",
    "        root = tree.getroot()\n",
    "\n",
    "        # Crear una lista para almacenar los datos del XML\n",
    "        data_list = []\n",
    "\n",
    "        # Recorrer los elementos del XML y extraer la información\n",
    "        documento_elements = root.findall(\".//Documento\")\n",
    "\n",
    "        for documento_element in documento_elements:\n",
    "    \n",
    "            apertura_element = documento_element.find(\".//Apertura\")\n",
    "            punto_venta = apertura_element.find(\"POS\").text\n",
    "            fecha = apertura_element.find(\"Fecha\").text\n",
    "            hora = apertura_element.find(\"Hora\").text\n",
    "            numero_documento = apertura_element.find(\"NumeroDocumento\").text\n",
    "    \n",
    "            venta_element = documento_element.find(\".//Venta\")\n",
    "            try:\n",
    "                descripcion = venta_element.find(\"Descripcion\").text\n",
    "            except AttributeError:\n",
    "                descripcion = \"Descripcion no encontrada\"\n",
    "            venta_element = documento_element.find(\".//Totales\")\n",
    "            try:\n",
    "                precio = venta_element.find(\"Final\").text\n",
    "            except AttributeError:\n",
    "                precio = \"Precio no encontrado\"\n",
    "\n",
    "            # Agregar más campos aquí según tu estructura XML\n",
    "            data_list.append({\n",
    "                'PUNTO_VENTA': punto_venta,\n",
    "                'FECHA_VENTA': fecha,\n",
    "                'HORA_VENTA': hora,\n",
    "                'NRO_TICKET': numero_documento,\n",
    "                'MONTO_VENTA': precio,\n",
    "                'CLASE': descripcion\n",
    "                })\n",
    "\n",
    "        df = pd.DataFrame(data_list)\n",
    "        return df\n",
    "\n",
    "    except Exception as e:\n",
    "        print(f\"Error al procesar el archivo XML: {str(e)}\")\n",
    "        return None"
   ]
  },
  {
   "cell_type": "code",
   "execution_count": 33,
   "id": "f42628e2",
   "metadata": {},
   "outputs": [],
   "source": [
    "def guardar_dataframe_como_xlsx(df, ip, zeta, fecha_formateada, ruta_directorio):\n",
    "    try:\n",
    "        ruta_archivo = f'{ruta_directorio}\\\\{ip}_{zeta}_{fecha_formateada}.xlsx'\n",
    "        df.to_excel(ruta_archivo, index=False)\n",
    "        print(f\"DataFrame guardado exitosamente en: {ruta_archivo}\")\n",
    "    except Exception as e:\n",
    "        print(f\"Error al guardar el DataFrame como XLSX: {str(e)}\")"
   ]
  },
  {
   "cell_type": "markdown",
   "id": "d9b98939",
   "metadata": {},
   "source": [
    "# Obtención de datos"
   ]
  },
  {
   "cell_type": "code",
   "execution_count": 34,
   "id": "be76b0b5",
   "metadata": {},
   "outputs": [],
   "source": [
    "# Leer los datos desde el archivo de configuración\n",
    "config = {}\n",
    "with open(config_file, \"r\") as file:\n",
    "    for line in file:\n",
    "        key, value = line.strip().split(\": \")\n",
    "        config[key] = value"
   ]
  },
  {
   "cell_type": "code",
   "execution_count": 35,
   "id": "3f061c49",
   "metadata": {},
   "outputs": [],
   "source": [
    "# Uso de la clase en un Jupyter Notebook\n",
    "db = MySQLDatabase(\n",
    "    host=config.get(\"Host\"),\n",
    "    user=config.get(\"User\"),\n",
    "    password=config.get(\"Password\"),\n",
    "    database=config.get(\"Database\"),\n",
    "    charset='latin1'\n",
    ")"
   ]
  },
  {
   "cell_type": "markdown",
   "id": "edd88194",
   "metadata": {},
   "source": [
    "# Cración de diccionario principal"
   ]
  },
  {
   "cell_type": "code",
   "execution_count": 36,
   "id": "9ad6adc2",
   "metadata": {},
   "outputs": [
    {
     "name": "stdout",
     "output_type": "stream",
     "text": [
      "2023-09-26\n",
      "<class 'datetime.date'>\n"
     ]
    }
   ],
   "source": [
    "print(fecha_diccionario)\n",
    "print(type(fecha_diccionario))\n",
    "# Convertir la fecha a una cadena con un formato específico\n",
    "fecha_formateada = fecha_diccionario.strftime(\"%Y-%m-%d\")"
   ]
  },
  {
   "cell_type": "code",
   "execution_count": 37,
   "id": "692fb528",
   "metadata": {},
   "outputs": [
    {
     "name": "stdout",
     "output_type": "stream",
     "text": [
      "<class 'str'>\n",
      "2023-09-26\n"
     ]
    }
   ],
   "source": [
    "print(type(fecha_formateada))\n",
    "print(fecha_formateada)"
   ]
  },
  {
   "cell_type": "code",
   "execution_count": 46,
   "id": "ddad21ae",
   "metadata": {},
   "outputs": [
    {
     "name": "stdout",
     "output_type": "stream",
     "text": [
      "Conexión exitosa a la base de datos.\n",
      "SELECT DISTINCT ip,zeta FROM ip_gco \n",
      "                where fecha= '2023-09-26'\n",
      "                and ip in (\"10.7.70.4\")\n",
      "                 \n",
      "                \n",
      "(('10.7.70.4', 2036), ('10.7.70.4', 2037))\n",
      "Conexión cerrada.\n",
      "[('10.7.70.4', 2036), ('10.7.70.4', 2037)]\n"
     ]
    }
   ],
   "source": [
    "# Crear un cursor para ejecutar consultas\n",
    "db.connect()\n",
    "\n",
    "\n",
    "#--where fecha= '{fecha_formateada}'\n",
    "# Define tu consulta SELECT\n",
    "query_inicio = f\"\"\"SELECT DISTINCT ip,zeta FROM ip_gco \n",
    "                where fecha= '{fecha_formateada}'\n",
    "                and ip in (\"10.7.70.4\")\n",
    "                 \n",
    "                \"\"\"\n",
    "print(query_inicio)\n",
    "# Ejecutar la sentencia SQL\n",
    "resultado = db.execute_query(query_inicio)\n",
    "print(resultado)\n",
    "# Inicializar un diccionario para almacenar los resultados\n",
    "resultado_lista = []\n",
    "\n",
    "\n",
    "# Recorre los resultados\n",
    "for row in resultado:\n",
    "    ip, zeta = row\n",
    "    resultado_lista.append((ip, zeta))\n",
    "\n",
    "# Cerrar la conexión\n",
    "db.close()\n",
    "\n",
    "# Recorre los resultados\n",
    "print(resultado_lista)"
   ]
  },
  {
   "cell_type": "code",
   "execution_count": 15,
   "id": "c81c0120",
   "metadata": {
    "scrolled": true
   },
   "outputs": [
    {
     "name": "stdout",
     "output_type": "stream",
     "text": [
      "DataFrame guardado exitosamente en: C:\\Users\\lcano\\Desktop\\Excel_impresoras\\10.1.70.1_1741_20230915.xlsx\n",
      "Conexión exitosa a la base de datos.\n",
      "ESTE CICLO TARDO 0:00:00.000999\n",
      "Cambios guardados en la base de datos.\n",
      "Conexión cerrada.\n",
      "Se inserto la ip: 10.1.70.1 y tardo: 0:02:53.897201\n",
      "Inserción completada.\n",
      "El proceso duro: 0:02:53.898205\n"
     ]
    }
   ],
   "source": [
    "# Control de hora del proceso total\n",
    "hora_inicio = datetime.datetime.now()\n",
    "\n",
    "for ip, zeta in resultado_lista:\n",
    "    # Control de hora del proceso de una ip\n",
    "    hora_inicio_individual = datetime.datetime.now()\n",
    "    # Control de hora del proceso\n",
    "    hora_inicio = datetime.datetime.now()\n",
    "    # Hora para archivo\n",
    "    hora_archivo = datetime.datetime.now()\n",
    "    #un dia para restar a la hora del archivo\n",
    "    un_dia = datetime.timedelta(days=1)\n",
    "    # Resta un día a la fecha y hora actual\n",
    "    hora_archivo = hora_archivo - un_dia   \n",
    "    # Formatear la fecha en el formato deseado\n",
    "    formato_personalizado = \"%Y%m%d\"\n",
    "    fecha_formateada = hora_archivo.strftime(formato_personalizado)\n",
    "    \n",
    "    # ip del ciclo divido con split por el .\n",
    "    partes_ip = ip.split(\".\")\n",
    "    # obtengo la VIA\n",
    "    estacion = partes_ip[1]\n",
    "    #obtengo la Estacion\n",
    "    via = partes_ip[-1]\n",
    "    \n",
    "    try:\n",
    "        #funcion obtener y descomprimir XML\n",
    "        contenido_xml = descargar_descomprimir_xml_zip(ip, zeta)\n",
    "        \n",
    "        df = obtener_datos_desde_xml(contenido_xml)\n",
    "    \n",
    "        # Convertir la columna fecha_apertura a formato de fecha en el DataFrame\n",
    "        df['FECHA_VENTA'] = pd.to_datetime(df['FECHA_VENTA'], format='%y%m%d')\n",
    "        #df['fecha_apertura'] = df['fecha_apertura'].dt.strftime('%d%m%y')\n",
    "        # Establecer una fecha base\n",
    "        df['HORA_VENTA'] = pd.to_datetime(df['HORA_VENTA'], format='%H%M%S').dt.time \n",
    "\n",
    "        # Funcion guardar dataframe en computadora local como respaldo\n",
    "        guardar_dataframe_como_xlsx(df, ip, zeta, fecha_formateada, ruta_directorio)\n",
    "\n",
    "        # Definicion de query que se realiza sobre el Dataframe, si queres modificar algo de la query se hace aca\n",
    "        query = f\"\"\"\n",
    "                SELECT  \n",
    "                       {via} as VIA\n",
    "                       ,{estacion} as ESTACION\n",
    "                       ,FECHA_VENTA\n",
    "                       ,HORA_VENTA\n",
    "                       ,SUBSTR(PUNTO_VENTA, LENGTH(PUNTO_VENTA) - LENGTH(LTRIM(PUNTO_VENTA, '0')) + 1) as PUNTO_VENTA\n",
    "                       ,MONTO_VENTA\n",
    "                       ,NRO_TICKET  AS NRO_TICKET\n",
    "                       ,SUBSTR(CLASE, -1) as CLASE\n",
    "                   \n",
    "                   \n",
    "                FROM df \n",
    "                where CLASE != 'Descripcion no encontrada'\n",
    "            \"\"\"\n",
    "        # Se ejecuta la query definida y se almacena en la variable result\n",
    "        result = psql.sqldf(query, locals())\n",
    "\n",
    "        # Establecer la conexión a la base de datos MySQL\n",
    "        db.connect()\n",
    "    \n",
    "        # Itera a través de las filas del DataFrame y ejecuta consultas INSERT\n",
    "        for index, row in result.iterrows():\n",
    "            tiempo_insertar = datetime.datetime.now()\n",
    "            query = \"\"\"\n",
    "                INSERT INTO ventas_efectivo (ESTACION, VIA, FECHA_VENTA, HORA_VENTA, PUNTO_VENTA, MONTO_VENTA, NRO_TICKET, CLASE)\n",
    "                    VALUES (%s, %s, %s, %s, %s, %s, %s, %s) \n",
    "            \"\"\"\n",
    "\n",
    "            values = (\n",
    "                row['ESTACION'],\n",
    "                row['VIA'],\n",
    "                row['FECHA_VENTA'],\n",
    "                row['HORA_VENTA'],\n",
    "                row['PUNTO_VENTA'],\n",
    "                row['MONTO_VENTA'],\n",
    "                row['NRO_TICKET'],\n",
    "                row['CLASE']\n",
    "                )\n",
    "            try:   \n",
    "                db.execute_query(query, values)\n",
    "            except Exception as e:\n",
    "                print(f\"Error al insertar: {e}\")\n",
    "        finalizo_insertar = datetime.datetime.now()\n",
    "        tiempo_tardo_insertar = finalizo_insertar - tiempo_insertar \n",
    "        print(F\"ESTE CICLO TARDO {tiempo_tardo_insertar}\")\n",
    "        # Realiza la confirmación y cierra la conexión\n",
    "        db.commit()\n",
    "        db.close()\n",
    "        # Control de hora de finalizacion de proceso\n",
    "        hora_final_inividual = datetime.datetime.now()\n",
    "        # Resta de hora de Inicio y Final\n",
    "        duracion_individual = hora_final_inividual - hora_inicio_individual\n",
    "        print(f\"Se inserto la ip: {ip} y tardo: {duracion_individual}\")\n",
    "    except Exception as e:\n",
    "        print(f\"Error al conectarse la ip: {ip}, la misma se guardara en la tabla ip_error. ERROR {e}\")\n",
    "        ## Establecer la conexión a la base de datos MySQL\n",
    "        #conexion_error = mysql.connector.connect(\n",
    "        #host='localhost',\n",
    "        #user='root',\n",
    "        #database='test_ausol',\n",
    "        #port='3306'\n",
    "        #)\n",
    "\n",
    "        ## Crea un cursor\n",
    "        #cursor_error = conexion_error.cursor()\n",
    "        \n",
    "        #fecha_error = datetime.datetime.now()\n",
    "        ## Consulta SQL para insertar datos\n",
    "        #insert_query = \"INSERT INTO ip_error (ip, zeta, fecha_ejecucion) VALUES (%s, %s, %s)\"\n",
    "        \n",
    "        #try:\n",
    "        #    cursor_error.execute(insert_query, nuevo_usuario)\n",
    "        #    connection.commit()  # Guarda los cambios en la base de datos\n",
    "        #    print(\"Datos insertados correctamente\")\n",
    "        #except mysql.connector.Error as err:\n",
    "        #    print(\"Error al insertar datos:\", err)\n",
    "        #    connection.rollback()  # Revierte cualquier cambio en caso de error\n",
    "\n",
    "        # Cierra el cursor y la conexión\n",
    "        #cursor.close()\n",
    "        #connection.close()\n",
    "             \n",
    "print(\"Inserción completada.\")\n",
    "# Control de hora de finalizacion de proceso\n",
    "hora_final = datetime.datetime.now()\n",
    "# Resta de hora de Inicio y Final\n",
    "duracion = hora_final - hora_inicio\n",
    "print(f\"El proceso duro: {duracion}\")"
   ]
  }
 ],
 "metadata": {
  "celltoolbar": "Slideshow",
  "kernelspec": {
   "display_name": "Python 3 (ipykernel)",
   "language": "python",
   "name": "python3"
  },
  "language_info": {
   "codemirror_mode": {
    "name": "ipython",
    "version": 3
   },
   "file_extension": ".py",
   "mimetype": "text/x-python",
   "name": "python",
   "nbconvert_exporter": "python",
   "pygments_lexer": "ipython3",
   "version": "3.11.3"
  }
 },
 "nbformat": 4,
 "nbformat_minor": 5
}
